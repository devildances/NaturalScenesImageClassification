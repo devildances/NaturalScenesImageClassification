{
 "metadata": {
  "language_info": {
   "codemirror_mode": {
    "name": "ipython",
    "version": 3
   },
   "file_extension": ".py",
   "mimetype": "text/x-python",
   "name": "python",
   "nbconvert_exporter": "python",
   "pygments_lexer": "ipython3",
   "version": 3
  },
  "orig_nbformat": 2
 },
 "nbformat": 4,
 "nbformat_minor": 2,
 "cells": [
  {
   "cell_type": "code",
   "execution_count": null,
   "metadata": {},
   "outputs": [],
   "source": [
    "import tensorflow as tf\n",
    "import librys\n",
    "import librypre\n",
    "\n",
    "print(\"TensorFlow version :\", tf.__version__)\n",
    "print(\"Num GPUs Available: \", len(tf.config.experimental.list_physical_devices('GPU')))"
   ]
  },
  {
   "source": [
    "# Load Dataset and Overview"
   ],
   "cell_type": "markdown",
   "metadata": {}
  },
  {
   "cell_type": "code",
   "execution_count": null,
   "metadata": {},
   "outputs": [],
   "source": [
    "librys.trainSampleView()"
   ]
  },
  {
   "cell_type": "code",
   "execution_count": null,
   "metadata": {},
   "outputs": [],
   "source": [
    "img_shape = librys.dataInfo(img_res=True)"
   ]
  },
  {
   "source": [
    "# Images Preprocessing"
   ],
   "cell_type": "markdown",
   "metadata": {}
  },
  {
   "cell_type": "code",
   "execution_count": null,
   "metadata": {},
   "outputs": [],
   "source": [
    "param_augment = {\"rotation_range\":20,\"width_shift_range\":0.3,\"height_shift_range\":0.3,\"shear_range\":0.2,\"brightness_range\":(0.1,0.9),\"zoom_range\":[0.2,1.5],\"channel_shift_range\":150,\"horizontal_flip\":True,\"fill_mode\":'nearest'}\n",
    "\n",
    "categories, total_categories, train_data, test_data, labels_dict = librys.dataPrep(image_shape=(img_shape[0],img_shape[1]),\n",
    "                                                                                    color_mode='rgb',\n",
    "                                                                                    batch_size=64,\n",
    "                                                                                    class_mode='categorical',\n",
    "                                                                                    image_augmentation=param_augment)"
   ]
  },
  {
   "source": [
    "---\n",
    "---\n",
    "# (IceptionV3) Import and Train Pre-trained Model\n",
    "\n",
    "### https://storage.googleapis.com/mledu-datasets/inception_v3_weights_tf_dim_ordering_tf_kernels_notop.h5"
   ],
   "cell_type": "markdown",
   "metadata": {}
  },
  {
   "cell_type": "code",
   "execution_count": null,
   "metadata": {},
   "outputs": [],
   "source": []
  },
  {
   "cell_type": "code",
   "execution_count": null,
   "metadata": {},
   "outputs": [],
   "source": [
    "model, history = librys.trainModel(model=model, data_train=train_data, data_validation=test_data, early_stop=True, num_epochs=100, verbose=1)"
   ]
  },
  {
   "source": [
    "# (IceptionV3) Evaluate The Model"
   ],
   "cell_type": "markdown",
   "metadata": {}
  },
  {
   "cell_type": "code",
   "execution_count": null,
   "metadata": {},
   "outputs": [],
   "source": [
    "librys.modelEvaluation(model=model, history=history, data_validation=test_data)"
   ]
  },
  {
   "cell_type": "code",
   "execution_count": null,
   "metadata": {},
   "outputs": [],
   "source": [
    "librys.modelReport(model=model, data_validation=test_data)"
   ]
  },
  {
   "source": [
    "# (IceptionV3) Predict New Unlabeled Images"
   ],
   "cell_type": "markdown",
   "metadata": {}
  },
  {
   "cell_type": "code",
   "execution_count": null,
   "metadata": {},
   "outputs": [],
   "source": [
    "librys.predictNewImagesInBatch(model=model, categories_dict=labels_dict, image_shape=img_shape)"
   ]
  },
  {
   "source": [
    "---\n",
    "---\n",
    "# (VGG16) Import and Train Pre-trained Model\n",
    "\n",
    "### https://github.com/fchollet/deep-learning-models/releases/download/v0.1/vgg16_weights_tf_dim_ordering_tf_kernels_notop.h5"
   ],
   "cell_type": "markdown",
   "metadata": {}
  },
  {
   "cell_type": "code",
   "execution_count": null,
   "metadata": {},
   "outputs": [],
   "source": []
  },
  {
   "cell_type": "code",
   "execution_count": null,
   "metadata": {},
   "outputs": [],
   "source": []
  },
  {
   "source": [
    "# (VGG16) Evaluate The Model"
   ],
   "cell_type": "markdown",
   "metadata": {}
  },
  {
   "cell_type": "code",
   "execution_count": null,
   "metadata": {},
   "outputs": [],
   "source": []
  },
  {
   "cell_type": "code",
   "execution_count": null,
   "metadata": {},
   "outputs": [],
   "source": []
  },
  {
   "source": [
    "# (VGG16) Predict New Unlabeled Images"
   ],
   "cell_type": "markdown",
   "metadata": {}
  },
  {
   "cell_type": "code",
   "execution_count": null,
   "metadata": {},
   "outputs": [],
   "source": []
  },
  {
   "source": [
    "---\n",
    "---\n",
    "# (ResNet50) Import and Train Pre-trained Model\n",
    "\n",
    "### https://github.com/keras-team/keras-applications/releases/download/resnet/resnet50_weights_tf_dim_ordering_tf_kernels_notop.h5"
   ],
   "cell_type": "markdown",
   "metadata": {}
  },
  {
   "cell_type": "code",
   "execution_count": null,
   "metadata": {},
   "outputs": [],
   "source": []
  },
  {
   "cell_type": "code",
   "execution_count": null,
   "metadata": {},
   "outputs": [],
   "source": []
  },
  {
   "source": [
    "# (ResNet50) Evaluate The Model"
   ],
   "cell_type": "markdown",
   "metadata": {}
  },
  {
   "cell_type": "code",
   "execution_count": null,
   "metadata": {},
   "outputs": [],
   "source": []
  },
  {
   "cell_type": "code",
   "execution_count": null,
   "metadata": {},
   "outputs": [],
   "source": []
  },
  {
   "source": [
    "# (ResNet50) Predict New Unlabeled Images"
   ],
   "cell_type": "markdown",
   "metadata": {}
  },
  {
   "cell_type": "code",
   "execution_count": null,
   "metadata": {},
   "outputs": [],
   "source": []
  }
 ]
}